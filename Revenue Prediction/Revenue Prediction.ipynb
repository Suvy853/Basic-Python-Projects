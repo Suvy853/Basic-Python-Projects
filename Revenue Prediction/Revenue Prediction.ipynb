{
 "cells": [
  {
   "cell_type": "code",
   "execution_count": 1,
   "id": "c664434b-9336-474c-8fbe-94e9493ef397",
   "metadata": {},
   "outputs": [
    {
     "name": "stdout",
     "output_type": "stream",
     "text": [
      "<class 'pandas.core.frame.DataFrame'>\n",
      "RangeIndex: 100 entries, 0 to 99\n",
      "Data columns (total 8 columns):\n",
      " #   Column        Non-Null Count  Dtype  \n",
      "---  ------        --------------  -----  \n",
      " 0   Id            100 non-null    int64  \n",
      " 1   Name          100 non-null    object \n",
      " 2   Franchise     100 non-null    object \n",
      " 3   Category      100 non-null    object \n",
      " 4   City          100 non-null    object \n",
      " 5   No_Of_Item    100 non-null    int64  \n",
      " 6   Order_Placed  100 non-null    float64\n",
      " 7   Revenue       100 non-null    int64  \n",
      "dtypes: float64(1), int64(3), object(4)\n",
      "memory usage: 6.4+ KB\n"
     ]
    },
    {
     "data": {
      "text/plain": [
       "(    Id                  Name Franchise       Category       City  No_Of_Item  \\\n",
       " 0  101    HungryHowie'sPizza       Yes        Mexican  Bengaluru          55   \n",
       " 1  102  CharleysPhillySteaks        No    Varied Menu   Gurugram          72   \n",
       " 2  103                Chuy's       Yes        Chicken       Pune          25   \n",
       " 3  104           O'Charley's       Yes  Italian/Pizza     Mumbai          18   \n",
       " 4  105         PolloTropical       Yes          Pizza      Noida          48   \n",
       " \n",
       "    Order_Placed  Revenue  \n",
       " 0           5.5  5953753  \n",
       " 1           6.8  7223131  \n",
       " 2           1.9  2555379  \n",
       " 3           2.5  2175511  \n",
       " 4           4.2  4816715  ,\n",
       " None)"
      ]
     },
     "execution_count": 1,
     "metadata": {},
     "output_type": "execute_result"
    }
   ],
   "source": [
    "import pandas as pd\n",
    "\n",
    "# Load the dataset to inspect its structure\n",
    "file_path = r\"C:\\Users\\suvee\\Documents\\Intellipat\\Python Assignments\\Projects\\Revenue Prediction\\revenue_prediction.csv\"\n",
    "data = pd.read_csv(file_path)\n",
    "\n",
    "# Display the first few rows of the dataset\n",
    "data.head(), data.info()"
   ]
  },
  {
   "cell_type": "code",
   "execution_count": 3,
   "id": "2fc99268-43ca-44f0-bc7d-94edaaa15e15",
   "metadata": {},
   "outputs": [
    {
     "data": {
      "text/plain": [
       "((80, 5), (20, 5), (80,), (20,))"
      ]
     },
     "execution_count": 3,
     "metadata": {},
     "output_type": "execute_result"
    }
   ],
   "source": [
    "from sklearn.model_selection import train_test_split\n",
    "from sklearn.preprocessing import LabelEncoder\n",
    "\n",
    "# Preprocessing: Encode categorical variables\n",
    "categorical_cols = ['Franchise', 'Category', 'City']\n",
    "label_encoders = {}\n",
    "\n",
    "for col in categorical_cols:\n",
    "    le = LabelEncoder()\n",
    "    data[col] = le.fit_transform(data[col])\n",
    "    label_encoders[col] = le\n",
    "\n",
    "# Define features and target variable\n",
    "X = data.drop(columns=['Id', 'Name', 'Revenue'])\n",
    "y = data['Revenue']\n",
    "\n",
    "# Split the data into training and testing sets\n",
    "X_train, X_test, y_train, y_test = train_test_split(X, y, test_size=0.2, random_state=42)\n",
    "\n",
    "# Display the shapes of the datasets\n",
    "X_train.shape, X_test.shape, y_train.shape, y_test.shape"
   ]
  },
  {
   "cell_type": "code",
   "execution_count": 5,
   "id": "77f6e9fc-377a-493f-9705-d4e714478213",
   "metadata": {},
   "outputs": [
    {
     "data": {
      "text/plain": [
       "(417469.51050000003, 303180482350.1803, 0.7929458058742888)"
      ]
     },
     "execution_count": 5,
     "metadata": {},
     "output_type": "execute_result"
    }
   ],
   "source": [
    "from sklearn.ensemble import RandomForestRegressor\n",
    "from sklearn.metrics import mean_absolute_error, mean_squared_error, r2_score\n",
    "\n",
    "# Train a Random Forest Regressor\n",
    "model = RandomForestRegressor(random_state=42)\n",
    "model.fit(X_train, y_train)\n",
    "\n",
    "# Make predictions on the test set\n",
    "y_pred = model.predict(X_test)\n",
    "\n",
    "# Evaluate the model\n",
    "mae = mean_absolute_error(y_test, y_pred)\n",
    "mse = mean_squared_error(y_test, y_pred)\n",
    "r2 = r2_score(y_test, y_pred)\n",
    "\n",
    "mae, mse, r2"
   ]
  },
  {
   "cell_type": "code",
   "execution_count": 7,
   "id": "583e5843-05ec-442b-a03e-1986e0ebc7c3",
   "metadata": {},
   "outputs": [
    {
     "data": {
      "image/png": "[encoded data removed]",
      "text/plain": [
       "<Figure size 1000x600 with 1 Axes>"
      ]
     },
     "metadata": {},
     "output_type": "display_data"
    },
    {
     "data": {
      "text/plain": [
       "{'Franchise': 0.003464248558671437,\n",
       " 'Category': 0.014402081482244387,\n",
       " 'City': 0.004894493206530952,\n",
       " 'No_Of_Item': 0.31014039800576104,\n",
       " 'Order_Placed': 0.6670987787467921}"
      ]
     },
     "execution_count": 7,
     "metadata": {},
     "output_type": "execute_result"
    }
   ],
   "source": [
    "import matplotlib.pyplot as plt\n",
    "\n",
    "# Feature importance analysis\n",
    "feature_importances = model.feature_importances_\n",
    "features = X.columns\n",
    "\n",
    "# Plot feature importances\n",
    "plt.figure(figsize=(10, 6))\n",
    "plt.barh(features, feature_importances, align='center')\n",
    "plt.xlabel('Importance Score')\n",
    "plt.ylabel('Feature')\n",
    "plt.title('Feature Importance in Revenue Prediction')\n",
    "plt.show()\n",
    "\n",
    "# Display feature importance values\n",
    "feature_importance_dict = dict(zip(features, feature_importances))\n",
    "feature_importance_dict"
   ]
  }
 ],
 "metadata": {
  "kernelspec": {
   "display_name": "Python 3 (ipykernel)",
   "language": "python",
   "name": "python3"
  },
  "language_info": {
   "codemirror_mode": {
    "name": "ipython",
    "version": 3
   },
   "file_extension": ".py",
   "mimetype": "text/x-python",
   "name": "python",
   "nbconvert_exporter": "python",
   "pygments_lexer": "ipython3",
   "version": "3.12.4"
  }
 },
 "nbformat": 4,
 "nbformat_minor": 5
}
